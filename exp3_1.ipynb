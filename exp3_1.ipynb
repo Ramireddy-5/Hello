{
  "nbformat": 4,
  "nbformat_minor": 0,
  "metadata": {
    "colab": {
      "provenance": [],
      "authorship_tag": "ABX9TyOSZJRcEyHPXCw6CNs8yRDp",
      "include_colab_link": true
    },
    "kernelspec": {
      "name": "python3",
      "display_name": "Python 3"
    },
    "language_info": {
      "name": "python"
    }
  },
  "cells": [
    {
      "cell_type": "markdown",
      "metadata": {
        "id": "view-in-github",
        "colab_type": "text"
      },
      "source": [
        "<a href=\"https://colab.research.google.com/github/Ramireddy-5/Hello/blob/main/exp3_1.ipynb\" target=\"_parent\"><img src=\"https://colab.research.google.com/assets/colab-badge.svg\" alt=\"Open In Colab\"/></a>"
      ]
    },
    {
      "cell_type": "code",
      "execution_count": 3,
      "metadata": {
        "colab": {
          "base_uri": "https://localhost:8080/"
        },
        "id": "dak6Ot58-Zhm",
        "outputId": "42006e5b-af72-4c7d-b81d-033c2f140608"
      },
      "outputs": [
        {
          "output_type": "stream",
          "name": "stderr",
          "text": [
            "[nltk_data] Downloading package punkt to /root/nltk_data...\n",
            "[nltk_data]   Package punkt is already up-to-date!\n",
            "[nltk_data] Downloading package averaged_perceptron_tagger to\n",
            "[nltk_data]     /root/nltk_data...\n",
            "[nltk_data]   Package averaged_perceptron_tagger is already up-to-\n",
            "[nltk_data]       date!\n",
            "[nltk_data] Downloading package punkt_tab to /root/nltk_data...\n",
            "[nltk_data]   Package punkt_tab is already up-to-date!\n",
            "[nltk_data] Downloading package averaged_perceptron_tagger_eng to\n",
            "[nltk_data]     /root/nltk_data...\n",
            "[nltk_data]   Unzipping taggers/averaged_perceptron_tagger_eng.zip.\n"
          ]
        },
        {
          "output_type": "stream",
          "name": "stdout",
          "text": [
            "\n",
            "Sentence 1: Notice of a bid advertisement shall be published in at least one local newspaper and\n",
            "in one trade publication at least 30 days in advance of sale.\n",
            "Notice – NNP, of – IN, a – DT, bid – NN, advertisement – NN, shall – MD, be – VB, published – VBN, in – IN, at – IN, least – JJS, one – CD, local – JJ, newspaper – NN, and – CC, in – IN, one – CD, trade – NN, publication – NN, at – IN, least – JJS, 30 – CD, days – NNS, in – IN, advance – NN, of – IN, sale – NN, . – .\n",
            "\n",
            "Sentence 2: If applicable, the notice must identify\n",
            "the reservation within which the tracts to be leased are found.\n",
            "If – IN, applicable – JJ, , – ,, the – DT, notice – NN, must – MD, identify – VB, the – DT, reservation – NN, within – IN, which – WDT, the – DT, tracts – NNS, to – TO, be – VB, leased – VBN, are – VBP, found – VBN, . – .\n",
            "\n",
            "Sentence 3: Specific descriptions\n",
            "of the tracts shall be available at the office of the superintendent.\n",
            "Specific – JJ, descriptions – NNS, of – IN, the – DT, tracts – NNS, shall – MD, be – VB, available – JJ, at – IN, the – DT, office – NN, of – IN, the – DT, superintendent – NN, . – .\n",
            "\n",
            "Sentence 4: The complete text\n",
            "of the advertisement shall be mailed to each person listed on the appropriate agency\n",
            "mailing list.\n",
            "The – DT, complete – JJ, text – NN, of – IN, the – DT, advertisement – NN, shall – MD, be – VB, mailed – VBN, to – TO, each – DT, person – NN, listed – VBN, on – IN, the – DT, appropriate – JJ, agency – NN, mailing – VBG, list – NN, . – .\n"
          ]
        }
      ],
      "source": [
        "import nltk\n",
        "from nltk.tokenize import sent_tokenize, word_tokenize\n",
        "from nltk import pos_tag\n",
        "\n",
        "# Download necessary resources (run once)\n",
        "nltk.download('punkt')\n",
        "nltk.download('averaged_perceptron_tagger')\n",
        "nltk.download('punkt_tab')\n",
        "nltk.download('averaged_perceptron_tagger_eng') # Added this line to download the missing resource\n",
        "\n",
        "# Sample input paragraph\n",
        "paragraph = \"\"\"Notice of a bid advertisement shall be published in at least one local newspaper and\n",
        "in one trade publication at least 30 days in advance of sale. If applicable, the notice must identify\n",
        "the reservation within which the tracts to be leased are found. Specific descriptions\n",
        "of the tracts shall be available at the office of the superintendent. The complete text\n",
        "of the advertisement shall be mailed to each person listed on the appropriate agency\n",
        "mailing list.\"\"\"\n",
        "\n",
        "# Step 1: Sentence tokenization\n",
        "sentences = sent_tokenize(paragraph)\n",
        "\n",
        "for i, sent in enumerate(sentences, 1):\n",
        "    print(f\"\\nSentence {i}: {sent}\")\n",
        "    # Step 2: Word tokenization\n",
        "    words = word_tokenize(sent)\n",
        "    # Step 3: POS tagging\n",
        "    pos_tags = pos_tag(words)\n",
        "    # Step 4: Print in required format\n",
        "    formatted = [f\"{word} – {tag}\" for word, tag in pos_tags]\n",
        "    print(\", \".join(formatted))"
      ]
    }
  ]
}