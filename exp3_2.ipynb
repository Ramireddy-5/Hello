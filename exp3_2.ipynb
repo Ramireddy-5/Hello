{
  "nbformat": 4,
  "nbformat_minor": 0,
  "metadata": {
    "colab": {
      "provenance": [],
      "authorship_tag": "ABX9TyMDIgwwgtzUMpk7h3n0EBN7",
      "include_colab_link": true
    },
    "kernelspec": {
      "name": "python3",
      "display_name": "Python 3"
    },
    "language_info": {
      "name": "python"
    }
  },
  "cells": [
    {
      "cell_type": "markdown",
      "metadata": {
        "id": "view-in-github",
        "colab_type": "text"
      },
      "source": [
        "<a href=\"https://colab.research.google.com/github/Ramireddy-5/Hello/blob/main/exp3_2.ipynb\" target=\"_parent\"><img src=\"https://colab.research.google.com/assets/colab-badge.svg\" alt=\"Open In Colab\"/></a>"
      ]
    },
    {
      "cell_type": "code",
      "execution_count": 4,
      "metadata": {
        "colab": {
          "base_uri": "https://localhost:8080/"
        },
        "id": "xVZ7bMSL_CgK",
        "outputId": "4a774c97-a24d-4278-d7c2-67ed24445ad5"
      },
      "outputs": [
        {
          "output_type": "stream",
          "name": "stdout",
          "text": [
            "POS Tags: [('The', 'DT'), ('little', 'JJ'), ('mouse', 'NN'), ('ate', 'VB'), ('the', 'DT'), ('fresh', 'JJ'), ('cheeze', 'NN')]\n",
            "\n",
            "Parsed Tree:\n",
            "(S\n",
            "  (NP The/DT little/JJ mouse/NN)\n",
            "  ate/VB\n",
            "  (NP the/DT fresh/JJ cheeze/NN))\n"
          ]
        },
        {
          "output_type": "stream",
          "name": "stderr",
          "text": [
            "[nltk_data] Downloading package punkt to /root/nltk_data...\n",
            "[nltk_data]   Package punkt is already up-to-date!\n",
            "[nltk_data] Downloading package averaged_perceptron_tagger to\n",
            "[nltk_data]     /root/nltk_data...\n",
            "[nltk_data]   Package averaged_perceptron_tagger is already up-to-\n",
            "[nltk_data]       date!\n",
            "[nltk_data] Downloading package punkt_tab to /root/nltk_data...\n",
            "[nltk_data]   Package punkt_tab is already up-to-date!\n",
            "[nltk_data] Downloading package averaged_perceptron_tagger_eng to\n",
            "[nltk_data]     /root/nltk_data...\n",
            "[nltk_data]   Package averaged_perceptron_tagger_eng is already up-to-\n",
            "[nltk_data]       date!\n"
          ]
        }
      ],
      "source": [
        "import nltk\n",
        "from nltk import pos_tag, word_tokenize\n",
        "from nltk.chunk import RegexpParser\n",
        "\n",
        "# Download required resources (only first time)\n",
        "nltk.download('punkt')\n",
        "nltk.download('averaged_perceptron_tagger')\n",
        "# The error indicates that the 'punkt_tab' resource is missing, which is needed for tokenization.\n",
        "nltk.download('punkt_tab')\n",
        "# The error indicates that the 'averaged_perceptron_tagger_eng' resource is missing, which is needed for POS tagging.\n",
        "nltk.download('averaged_perceptron_tagger_eng')\n",
        "\n",
        "\n",
        "# Input sentence\n",
        "sentence = \"The little mouse ate the fresh cheeze\"\n",
        "\n",
        "# Step 1: Tokenize\n",
        "words = word_tokenize(sentence)\n",
        "\n",
        "# Step 2: POS tagging\n",
        "pos_tags = pos_tag(words)\n",
        "print(\"POS Tags:\", pos_tags)\n",
        "\n",
        "# Step 3: Define Grammar Rule\n",
        "grammar = r\"NP: {<DT>?<JJ>*<NN>}\"\n",
        "\n",
        "# Step 4: Create chunk parser\n",
        "chunk_parser = RegexpParser(grammar)\n",
        "\n",
        "# Step 5: Parse the sentence\n",
        "tree = chunk_parser.parse(pos_tags)\n",
        "print(\"\\nParsed Tree:\")\n",
        "print(tree)\n",
        "\n",
        "# Step 6: Draw the tree (GUI window will pop up)\n",
        "# tree.draw() # This line is commented out because GUI windows are not supported in this environment."
      ]
    }
  ]
}